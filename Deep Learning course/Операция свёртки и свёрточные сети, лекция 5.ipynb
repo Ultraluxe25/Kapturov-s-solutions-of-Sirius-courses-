{
 "cells": [
  {
   "cell_type": "markdown",
   "id": "56ead320",
   "metadata": {
    "cellId": "0lzghi105m85o65x8pqpi8",
    "execution_id": "4ce976b3-c02f-40f4-be81-65f98010dfb5"
   },
   "source": [
    "## Лекция 5. Работа с изображениями в PyTorch"
   ]
  },
  {
   "cell_type": "markdown",
   "id": "ce2f186a",
   "metadata": {
    "cellId": "fgfk9o1z2ufz5fzvqndo4j",
    "execution_id": "5749b2fd-201c-45f1-9d59-421962f03790"
   },
   "source": [
    "Нейросеть может запоминать данные, не очень понимая реальные зависимости в них. Этот процесс называется __переобучение__.\n",
    "\n",
    "Сильно переобученная модель будет показывать очень плохие результаты на новых данных и очень хорошие результаты на тех данных, на которых она обучалась (обучающей выборке).\n",
    "\n",
    "Для того чтобы отслеживать переобучение обычно данные разделяются на так называемые ___обучающую выборку___ и ___валидационную выборку___.\n",
    "\n",
    "Обучающая выборка — часть данных, на которых мы будем обучать нашу нейросеть.\n",
    "\n",
    "Валидационная выборка — часть данных, на которых мы __НИКОГДА__ не будем обучаться, но будем валидироваться (то есть будем замерять качество работы нашей модели, используя эти данные)."
   ]
  },
  {
   "cell_type": "code",
   "execution_count": 158,
   "id": "30e3fd5a",
   "metadata": {
    "cellId": "4bcm1usi2rw5txte23ghxs"
   },
   "outputs": [
    {
     "name": "stdout",
     "output_type": "stream",
     "text": [
      "1.13.0+cu117\n"
     ]
    }
   ],
   "source": [
    "import torch\n",
    "print(torch.__version__)"
   ]
  },
  {
   "cell_type": "code",
   "execution_count": 159,
   "id": "eb06c142",
   "metadata": {
    "cellId": "sq35qfg5iemhwc0nohl8am"
   },
   "outputs": [
    {
     "name": "stdout",
     "output_type": "stream",
     "text": [
      "Files already downloaded and verified\n",
      "Files already downloaded and verified\n"
     ]
    }
   ],
   "source": [
    "# Скачиваем набор данных\n",
    "from torchvision import datasets\n",
    "\n",
    "download_dir = \"./dataset\"\n",
    "\n",
    "# Скачиваем обучающую выборку\n",
    "train_data = datasets.CIFAR10(root=download_dir, download=True, train=True)\n",
    "\n",
    "# Скачиваем валидационную выборку\n",
    "val_data = datasets.CIFAR10(root=download_dir, download=True, train=False)"
   ]
  },
  {
   "cell_type": "code",
   "execution_count": 160,
   "id": "c8731148",
   "metadata": {
    "cellId": "nwisxr6366b6z3fergrq9l"
   },
   "outputs": [
    {
     "data": {
      "text/plain": [
       "torch.Size([50000, 32, 32, 3])"
      ]
     },
     "execution_count": 160,
     "metadata": {},
     "output_type": "execute_result"
    }
   ],
   "source": [
    "# Объекты данных из обучающей выборки (50.000 цветных картинок размеров 32 x 32)\n",
    "x_train = torch.tensor(train_data.data)\n",
    "x_train.shape"
   ]
  },
  {
   "cell_type": "code",
   "execution_count": 161,
   "id": "717966f1",
   "metadata": {
    "cellId": "zdfhk2tfwa95ie3ocn0zm"
   },
   "outputs": [
    {
     "name": "stdout",
     "output_type": "stream",
     "text": [
      "torch.Size([50000])\n",
      "tensor(0)\n",
      "tensor(9)\n"
     ]
    }
   ],
   "source": [
    "# Цели предсказания для обучающей выборки (50.000 чисел от 0 до 9)\n",
    "y_train = torch.tensor(train_data.targets)\n",
    "\n",
    "print(y_train.shape, y_train.min(), y_train.max(), sep=\"\\n\")"
   ]
  },
  {
   "cell_type": "code",
   "execution_count": 162,
   "id": "5efe1ce5",
   "metadata": {
    "cellId": "bstfaaot4npg8oxucsytu6"
   },
   "outputs": [
    {
     "data": {
      "text/plain": [
       "['airplane',\n",
       " 'automobile',\n",
       " 'bird',\n",
       " 'cat',\n",
       " 'deer',\n",
       " 'dog',\n",
       " 'frog',\n",
       " 'horse',\n",
       " 'ship',\n",
       " 'truck']"
      ]
     },
     "execution_count": 162,
     "metadata": {},
     "output_type": "execute_result"
    }
   ],
   "source": [
    "# Какому классу соответствуют цели от 0 до 9\n",
    "classes = train_data.classes\n",
    "classes"
   ]
  },
  {
   "cell_type": "code",
   "execution_count": 163,
   "id": "350653c7",
   "metadata": {
    "cellId": "ryp14qbgre7wte2z4faxc"
   },
   "outputs": [],
   "source": [
    "classes_ru = [\n",
    "    \"самолёт\",\n",
    "    \"машина\",\n",
    "    \"птица\",\n",
    "    \"кошка\",\n",
    "    \"олень\",\n",
    "    \"собака\",\n",
    "    \"лягушка\",\n",
    "    \"лошадь\",\n",
    "    \"корабль\",\n",
    "    \"грузовик\",\n",
    "]"
   ]
  },
  {
   "cell_type": "code",
   "execution_count": 164,
   "id": "ea746943",
   "metadata": {
    "cellId": "j3rpiyc2ka2m738i2rqsl"
   },
   "outputs": [
    {
     "name": "stdout",
     "output_type": "stream",
     "text": [
      "torch.Size([10000, 32, 32, 3])\n",
      "torch.Size([10000])\n"
     ]
    }
   ],
   "source": [
    "# Аналогично записываем x и y для валидационной выборки (10.000 примеров)\n",
    "x_val = torch.tensor(val_data.data)\n",
    "y_val = torch.tensor(val_data.targets)\n",
    "\n",
    "print(x_val.shape, y_val.shape, sep=\"\\n\")"
   ]
  },
  {
   "cell_type": "code",
   "execution_count": 165,
   "id": "36b0bab6",
   "metadata": {
    "cellId": "xkbq5rd82qdc7z7gv1k32"
   },
   "outputs": [
    {
     "data": {
      "image/png": "[encoded data removed]",
      "text/plain": [
       "<Figure size 2160x720 with 10 Axes>"
      ]
     },
     "metadata": {},
     "output_type": "display_data"
    }
   ],
   "source": [
    "# Посмотрим на то как выглядят картинки из датасета\n",
    "\n",
    "import matplotlib.pyplot as plt\n",
    "%matplotlib inline\n",
    "\n",
    "hh = 2\n",
    "ww = 5\n",
    "\n",
    "fig, ax = plt.subplots(hh, ww, figsize=(30, 5 * hh))\n",
    "fig.suptitle(\"Примеры изображений из датасета CIFAR10\")\n",
    "\n",
    "for i, (x, y) in enumerate(zip(x_train, y_train)):\n",
    "    if i >= hh * ww:\n",
    "        break\n",
    "    plt.subplot(hh, ww, i + 1)\n",
    "    plt.imshow(x)\n",
    "    plt.xticks([])\n",
    "    plt.yticks([])\n",
    "    plt.title(classes_ru[y])\n",
    "plt.show()"
   ]
  },
  {
   "cell_type": "code",
   "execution_count": 166,
   "id": "9fbe5fbe",
   "metadata": {
    "cellId": "rce2s4xsr8a8d1zvk0bb58"
   },
   "outputs": [
    {
     "data": {
      "image/png": "[encoded data removed]",
      "text/plain": [
       "<Figure size 2160x720 with 4 Axes>"
      ]
     },
     "metadata": {},
     "output_type": "display_data"
    }
   ],
   "source": [
    "# Посмотрим что из себя представляют каналы изображения\n",
    "\n",
    "from mpl_toolkits.axes_grid1.axes_rgb import make_rgb_axes\n",
    "\n",
    "obj_ind = 8\n",
    "\n",
    "fig, ax = plt.subplots(figsize=(30, 10))\n",
    "fig.suptitle(f\"Цветное изображение и его каналы\\nКласс - {classes_ru[y_train[obj_ind]]}\")\n",
    "axs_rgb = make_rgb_axes(ax, pad=0.02)\n",
    "\n",
    "def get_rgb(img_rgb):\n",
    "    h, w, _ = img_rgb.shape\n",
    "    \n",
    "    output = []\n",
    "    for i in range(3):\n",
    "        channel_image = torch.zeros((h, w, 3), dtype=torch.uint8)\n",
    "        channel_image[:, :, i] = img_rgb[:, :, i]\n",
    "        output.append(channel_image)\n",
    "    \n",
    "    return output\n",
    "\n",
    "ax.imshow(x_train[obj_ind])\n",
    "channel_images = get_rgb(x_train[obj_ind])\n",
    "for i in range(3):\n",
    "    axs_rgb[i].imshow(channel_images[i])\n",
    "    axs_rgb[i].set_xticks([])\n",
    "    axs_rgb[i].set_yticks([])\n",
    "plt.show()"
   ]
  },
  {
   "cell_type": "code",
   "execution_count": 167,
   "id": "fc78baf6",
   "metadata": {
    "cellId": "0pbudug8jz6kanpzxezyten"
   },
   "outputs": [
    {
     "name": "stdout",
     "output_type": "stream",
     "text": [
      "torch.Size([32, 32, 3])\n",
      "tensor(0, dtype=torch.uint8)\n",
      "tensor(255, dtype=torch.uint8)\n",
      "torch.uint8\n"
     ]
    }
   ],
   "source": [
    "# Что из себя представляет одна картинка?\n",
    "print(x_train[0].shape, x_train.min(), x_train.max(), x_train.dtype, sep=\"\\n\")"
   ]
  },
  {
   "cell_type": "code",
   "execution_count": 168,
   "id": "a7acba2b",
   "metadata": {
    "cellId": "buker1eg9hevj7ndvpkfo"
   },
   "outputs": [
    {
     "name": "stdout",
     "output_type": "stream",
     "text": [
      "tensor(0.)\n",
      "tensor(1.)\n",
      "torch.float32\n"
     ]
    }
   ],
   "source": [
    "# Для обучения удобнее работать с вещественными числами\n",
    "x_train = torch.tensor(train_data.data) / 255.\n",
    "x_val = torch.tensor(val_data.data) / 255.\n",
    "\n",
    "print(x_train.min(), x_train.max(), x_train.dtype, sep=\"\\n\")"
   ]
  },
  {
   "cell_type": "code",
   "execution_count": 215,
   "id": "30552b1d",
   "metadata": {
    "cellId": "kheakv6sgknpbj51ciptnj"
   },
   "outputs": [
    {
     "name": "stdout",
     "output_type": "stream",
     "text": [
      "Размер до свёртки torch.Size([2, 3, 32, 32])\n",
      "Размер после свёртки torch.Size([2, 10, 32, 32])\n"
     ]
    }
   ],
   "source": [
    "# Свёртка\n",
    "conv_layer = torch.nn.Conv2d(\n",
    "    in_channels=3,  # Число каналов на входе\n",
    "    out_channels=10,  # Число каналов на выходе\n",
    "    kernel_size=3,  # Размер ядра\n",
    "    padding=1,  # Размер паддинга (1 элемент добавляется с каждой стороны)\n",
    "    padding_mode=\"zeros\",  # Указываем что в паддинге проставляем нули вдоль границ входного тензора\n",
    "    stride=1,  # Stride - 1 (смотрим на каждую позицию)\n",
    "    dilation=1,  # Dilation - 1 (ядро без пропусков прикладывается к куску изображения)\n",
    ")\n",
    "\n",
    "# Применяется слой свёртки к группе картинок в формате bs x c x h x w\n",
    "x = torch.rand(2, 3, 32, 32)\n",
    "\n",
    "print(f\"Размер до свёртки {x.shape}\")\n",
    "\n",
    "x = conv_layer(x)\n",
    "\n",
    "print(f\"Размер после свёртки {x.shape}\")"
   ]
  },
  {
   "cell_type": "code",
   "execution_count": 195,
   "id": "6d1b08d7",
   "metadata": {
    "cellId": "xnv9uu8c08djw5kvt0d5ho"
   },
   "outputs": [
    {
     "name": "stdout",
     "output_type": "stream",
     "text": [
      "Размер до свёртки torch.Size([2, 10, 32, 32])\n",
      "Размер после свёртки torch.Size([2, 10, 32, 32])\n"
     ]
    }
   ],
   "source": [
    "# Residual connection\n",
    "conv_layer_2 = torch.nn.Conv2d(\n",
    "    in_channels=10,\n",
    "    out_channels=10,\n",
    "    kernel_size=3,\n",
    "    padding=1,\n",
    ")\n",
    "\n",
    "x = torch.rand(2, 10, 32, 32)\n",
    "\n",
    "print(f\"Размер до свёртки {x.shape}\")\n",
    "\n",
    "x2 = conv_layer_2(x)\n",
    "\n",
    "print(f\"Размер после свёртки {x2.shape}\")\n",
    "\n",
    "h = x + x2"
   ]
  },
  {
   "cell_type": "code",
   "execution_count": 213,
   "id": "15c2bf25",
   "metadata": {
    "cellId": "ocwlnqzxiv9s25obt2j75"
   },
   "outputs": [
    {
     "name": "stdout",
     "output_type": "stream",
     "text": [
      "Размер до свёртки torch.Size([2, 3, 32, 32])\n",
      "Размер после свёртки torch.Size([2, 10, 32, 32])\n",
      "Размер выхода при конкатенации torch.Size([2, 13, 32, 32])\n",
      "Размер выхода при сумме через 1x1 свёртку torch.Size([2, 10, 32, 32])\n"
     ]
    }
   ],
   "source": [
    "# Residual connection если вход имеет другое количество каналов\n",
    "x = torch.rand(2, 3, 32, 32)\n",
    "\n",
    "print(f\"Размер до свёртки {x.shape}\")\n",
    "\n",
    "x2 = conv_layer(x)\n",
    "\n",
    "print(f\"Размер после свёртки {x2.shape}\")\n",
    "\n",
    "# Вариант 1:\n",
    "h = torch.cat([x, x2], 1)\n",
    "\n",
    "print(f\"Размер выхода при конкатенации {h.shape}\")\n",
    "\n",
    "\n",
    "# Вариант 2:\n",
    "conv_1_1 = torch.nn.Conv2d(\n",
    "    in_channels=3,\n",
    "    out_channels=10,\n",
    "    kernel_size=1,  # Ищем шаблоны размера 1x1xc\n",
    ")\n",
    "h = conv_1_1(x) + x2\n",
    "\n",
    "print(f\"Размер выхода при сумме через 1x1 свёртку {h.shape}\")"
   ]
  },
  {
   "cell_type": "code",
   "execution_count": 169,
   "id": "1d0f863a",
   "metadata": {
    "cellId": "3kknjncjize20g392pmwyk"
   },
   "outputs": [],
   "source": [
    "# Напишем свой блок свёртки с residual connection\n",
    "\n",
    "class ResidualBlock(torch.nn.Module):  # Наследуем от torch.nn.Module\n",
    "    def __init__(  # Инициализация блока\n",
    "        self,\n",
    "        input_c,  # Число каналов на входе\n",
    "        output_c,  # Число каналов на выходе\n",
    "        kernel_size,  # Размер ядра\n",
    "        activation=torch.nn.ReLU,  # Класс функции активации\n",
    "    ):\n",
    "        super().__init__()\n",
    "        \n",
    "        # Функция активации для нелинейности\n",
    "        self.activation = activation()\n",
    "        \n",
    "        # Паддинг подбираем такой, чтобы размеры h и w изображения не менялись\n",
    "        #  (считаем что размер ядра всегда нечётный)\n",
    "        padding_size = (kernel_size - 1) // 2\n",
    "        \n",
    "        # Операция свёртки\n",
    "        self.conv = torch.nn.Conv2d(\n",
    "            in_channels=input_c,\n",
    "            out_channels=output_c,\n",
    "            kernel_size=kernel_size,\n",
    "            padding=padding_size,\n",
    "            padding_mode=\"zeros\",\n",
    "        )\n",
    "        \n",
    "        # Если число каналов у входа и выхода различаются, то будем делать свёртку с\n",
    "        #  ядром размера 1\n",
    "        if input_c != output_c:\n",
    "            self.correct_channels = torch.nn.Conv2d(\n",
    "                in_channels=input_c,\n",
    "                out_channels=output_c,\n",
    "                kernel_size=1,\n",
    "            )\n",
    "        else:\n",
    "            self.correct_channels = torch.nn.Identity()  # Слой, никак не меняющий вход\n",
    "    \n",
    "    def forward(self, x):  # Прямой проход\n",
    "        return self.activation(self.conv(x) + self.correct_channels(x))"
   ]
  },
  {
   "cell_type": "code",
   "execution_count": 170,
   "id": "bda7391a",
   "metadata": {
    "cellId": "3x1d5eoqdo5ormufex4q8"
   },
   "outputs": [
    {
     "data": {
      "text/plain": [
       "ResidualBlock(\n",
       "  (conv): Conv2d(3, 10, kernel_size=(3, 3), stride=(1, 1), padding=(1, 1))\n",
       "  (correct_channels): Conv2d(3, 10, kernel_size=(1, 1), stride=(1, 1))\n",
       "  (activation): ReLU()\n",
       ")"
      ]
     },
     "execution_count": 170,
     "metadata": {},
     "output_type": "execute_result"
    }
   ],
   "source": [
    "ResidualBlock(3, 10, 3)"
   ]
  },
  {
   "cell_type": "code",
   "execution_count": 171,
   "id": "c3332ec3",
   "metadata": {
    "cellId": "pgiiz621rdeyeuga2nrp1n"
   },
   "outputs": [
    {
     "data": {
      "text/plain": [
       "ResidualBlock(\n",
       "  (conv): Conv2d(10, 10, kernel_size=(3, 3), stride=(1, 1), padding=(1, 1))\n",
       "  (correct_channels): Identity()\n",
       "  (activation): Tanh()\n",
       ")"
      ]
     },
     "execution_count": 171,
     "metadata": {},
     "output_type": "execute_result"
    }
   ],
   "source": [
    "ResidualBlock(10, 10, 3, torch.nn.Tanh)"
   ]
  },
  {
   "cell_type": "code",
   "execution_count": 172,
   "id": "0d23df30",
   "metadata": {
    "cellId": "7e5b0qgysjyaybq20zw2"
   },
   "outputs": [
    {
     "name": "stdout",
     "output_type": "stream",
     "text": [
      "torch.Size([1, 3, 20, 15])\n",
      "torch.Size([1, 10, 20, 15])\n"
     ]
    }
   ],
   "source": [
    "tmp_in = torch.rand(1, 3, 20, 15)  # Изображения нужно подавать в формате Batch_size x Channels x Hight x Width\n",
    "\n",
    "tmp_out = ResidualBlock(input_c=3, output_c=10, kernel_size=3)(tmp_in)\n",
    "\n",
    "print(tmp_in.shape, tmp_out.shape, sep## Лекция 5. Работа с изображениями в PyTorch=\"\\n\")"
   ]
  }
 ],
 "metadata": {
  "kernelspec": {
   "display_name": "Python 3 (ipykernel)",
   "language": "python",
   "name": "python3"
  },
  "language_info": {
   "codemirror_mode": {
    "name": "ipython",
    "version": 3
   },
   "file_extension": ".py",
   "mimetype": "text/x-python",
   "name": "python",
   "nbconvert_exporter": "python",
   "pygments_lexer": "ipython3",
   "version": "3.11.5"
  },
  "notebookId": "1a5fe0c2-24e4-41a0-8e6e-9e09dd1f8099",
  "notebookPath": "Sirius/Операция_свёртки_и_свёрточные_нейронные_сети.ipynb"
 },
 "nbformat": 4,
 "nbformat_minor": 5
}

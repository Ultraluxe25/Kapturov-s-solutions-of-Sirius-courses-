{
 "cells": [
  {
   "cell_type": "markdown",
   "id": "79424eec",
   "metadata": {
    "cellId": "0lzghi105m85o65x8pqpi8",
    "execution_id": "4ce976b3-c02f-40f4-be81-65f98010dfb5"
   },
   "source": [
    "## Лекция 6. Свёрточная нейронная сеть в PyTorch"
   ]
  },
  {
   "cell_type": "code",
   "execution_count": 179,
   "id": "92579308",
   "metadata": {
    "cellId": "7hsmoskmurb7nttaxxa3tg"
   },
   "outputs": [
    {
     "data": {
      "text/plain": [
       "Sequential(\n",
       "  (residual_block_1): ResidualBlock(\n",
       "    (conv): Conv2d(3, 8, kernel_size=(3, 3), stride=(1, 1), padding=(1, 1))\n",
       "    (correct_channels): Conv2d(3, 8, kernel_size=(1, 1), stride=(1, 1))\n",
       "    (activation): ReLU()\n",
       "  )\n",
       "  (residual_block_2): ResidualBlock(\n",
       "    (conv): Conv2d(8, 16, kernel_size=(3, 3), stride=(1, 1), padding=(1, 1))\n",
       "    (correct_channels): Conv2d(8, 16, kernel_size=(1, 1), stride=(1, 1))\n",
       "    (activation): ReLU()\n",
       "  )\n",
       "  (pooling): MaxPool2d(kernel_size=2, stride=2, padding=0, dilation=1, ceil_mode=False)\n",
       "  (residual_block_3): ResidualBlock(\n",
       "    (conv): Conv2d(16, 32, kernel_size=(3, 3), stride=(1, 1), padding=(1, 1))\n",
       "    (correct_channels): Conv2d(16, 32, kernel_size=(1, 1), stride=(1, 1))\n",
       "    (activation): ReLU()\n",
       "  )\n",
       ")"
      ]
     },
     "execution_count": 179,
     "metadata": {},
     "output_type": "execute_result"
    }
   ],
   "source": [
    "# Соберём вручную простую свёрточную нейросеть, используя написанный ранее блок\n",
    "from collections import OrderedDict\n",
    "\n",
    "conv_layers = [\n",
    "    (\n",
    "        \"residual_block_1\",\n",
    "        ResidualBlock(\n",
    "            input_c=3,\n",
    "            output_c=8,\n",
    "            kernel_size=3,\n",
    "            activation=torch.nn.ReLU,\n",
    "        ),\n",
    "    ),\n",
    "    (\n",
    "        \"residual_block_2\",\n",
    "        ResidualBlock(\n",
    "            input_c=8,\n",
    "            output_c=16,\n",
    "            kernel_size=3,\n",
    "            activation=torch.nn.ReLU,\n",
    "        ),\n",
    "    ),\n",
    "    (\n",
    "        \"pooling\",\n",
    "        torch.nn.MaxPool2d(kernel_size=2),\n",
    "    ),\n",
    "    (\n",
    "        \"residual_block_3\",\n",
    "        ResidualBlock(\n",
    "            input_c=16,\n",
    "            output_c=32,\n",
    "            kernel_size=3,\n",
    "            activation=torch.nn.ReLU,\n",
    "        ),\n",
    "    ),\n",
    "]\n",
    "\n",
    "conv_model = torch.nn.Sequential(OrderedDict(conv_layers))\n",
    "conv_model"
   ]
  },
  {
   "cell_type": "code",
   "execution_count": 216,
   "id": "6e66a5ff",
   "metadata": {
    "cellId": "ieknltgfkjh5ww0915qx4"
   },
   "outputs": [
    {
     "name": "stdout",
     "output_type": "stream",
     "text": [
      "tensor([[0.8826, 0.5636, 0.5012],\n",
      "        [0.1230, 0.8688, 0.1818]])\n",
      "\n",
      "torch.return_types.max(\n",
      "values=tensor([0.8826, 0.8688]),\n",
      "indices=tensor([0, 1]))\n",
      "\n",
      "torch.Size([2])\n",
      "\n",
      "tensor([0.8826, 0.5636, 0.5012])\n",
      "\n",
      "tensor([0.1230, 0.8688, 0.1818])\n"
     ]
    }
   ],
   "source": [
    "# Функция .max() в torch - как сделать MaxPooling\n",
    "h = torch.rand(2, 3)\n",
    "\n",
    "print(h, h.max(1), h.max(1).values.shape, h[0, :], h[1, :], sep=\"\\n\\n\")"
   ]
  },
  {
   "cell_type": "code",
   "execution_count": 186,
   "id": "4ff2ff29",
   "metadata": {
    "cellId": "0xb4yvi7nc2l1kuo3i2un"
   },
   "outputs": [
    {
     "data": {
      "text/plain": [
       "Sequential(\n",
       "  (linear_1): Linear(in_features=32, out_features=16, bias=True)\n",
       "  (linear_activation_1): ReLU()\n",
       "  (linear_2): Linear(in_features=16, out_features=10, bias=True)\n",
       "  (softmax): Softmax(dim=-1)\n",
       ")"
      ]
     },
     "execution_count": 186,
     "metadata": {},
     "output_type": "execute_result"
    }
   ],
   "source": [
    "# Теперь соберём вручную классификатор\n",
    "lin_layers = [\n",
    "    (\n",
    "        \"linear_1\",\n",
    "        torch.nn.Linear(\n",
    "            in_features=32,\n",
    "            out_features=16,\n",
    "        ),\n",
    "    ),\n",
    "    (\n",
    "        \"linear_activation_1\",\n",
    "        torch.nn.ReLU(),\n",
    "    ),\n",
    "    (\n",
    "        \"linear_2\",\n",
    "        torch.nn.Linear(\n",
    "            in_features=16,\n",
    "            out_features=10,\n",
    "        ),\n",
    "    ),\n",
    "    (\n",
    "        \"softmax\",\n",
    "        torch.nn.Softmax(-1),\n",
    "    ),\n",
    "]\n",
    "\n",
    "lin_model = torch.nn.Sequential(OrderedDict(lin_layers))\n",
    "lin_model"
   ]
  },
  {
   "cell_type": "code",
   "execution_count": 192,
   "id": "4b36d048",
   "metadata": {
    "cellId": "l3vk64ypcahfoc1o5nl948"
   },
   "outputs": [
    {
     "name": "stdout",
     "output_type": "stream",
     "text": [
      "Изначальный размер torch.Size([2, 3, 32, 32])\n",
      "После свёрток torch.Size([2, 32, 16, 16])\n",
      "После глобального пулинга torch.Size([2, 32])\n",
      "После классификатора torch.Size([2, 10])\n",
      "\n",
      "tensor([[0.0997, 0.0971, 0.0913, 0.0944, 0.1034, 0.1081, 0.0774, 0.1059, 0.1198,\n",
      "         0.1029],\n",
      "        [0.0996, 0.0975, 0.0907, 0.0939, 0.1030, 0.1084, 0.0774, 0.1064, 0.1200,\n",
      "         0.1030]], grad_fn=<SoftmaxBackward0>)\n",
      "\n",
      "tensor([1., 1.], grad_fn=<SumBackward1>)\n"
     ]
    }
   ],
   "source": [
    "# Посмотрим на примере\n",
    "x = torch.rand(2, 3, 32, 32)\n",
    "\n",
    "print(f\"Изначальный размер {x.shape}\")\n",
    "\n",
    "# Применяем свёрточные слои\n",
    "x = conv_model(x)\n",
    "\n",
    "print(f\"После свёрток {x.shape}\")\n",
    "\n",
    "# Сделаем операцию GlobalMaxPooling\n",
    "x = x.max(-1).values.max(-1).values\n",
    "\n",
    "print(f\"После глобального пулинга {x.shape}\")\n",
    "\n",
    "# Применяем классификатор\n",
    "x = lin_model(x)\n",
    "\n",
    "print(f\"После классификатора {x.shape}\\n\")\n",
    "\n",
    "print(x, x.sum(1), sep=\"\\n\\n\")"
   ]
  },
  {
   "cell_type": "code",
   "execution_count": 108,
   "id": "3b42b41e",
   "metadata": {
    "cellId": "07ulanmz7did4vgg7ad1fig"
   },
   "outputs": [
    {
     "data": {
      "text/plain": [
       "ResidualModel(\n",
       "  (conv_part): Sequential(\n",
       "    (residual_0_0): ResidualBlock(\n",
       "      (conv): Conv2d(3, 8, kernel_size=(3, 3), stride=(1, 1), padding=(1, 1))\n",
       "      (correct_channels): Conv2d(3, 8, kernel_size=(1, 1), stride=(1, 1))\n",
       "      (activation): ReLU()\n",
       "    )\n",
       "    (residual_0_1): ResidualBlock(\n",
       "      (conv): Conv2d(8, 8, kernel_size=(3, 3), stride=(1, 1), padding=(1, 1))\n",
       "      (correct_channels): Identity()\n",
       "      (activation): ReLU()\n",
       "    )\n",
       "    (pooling_0): AvgPool2d(kernel_size=2, stride=2, padding=0)\n",
       "    (residual_1_0): ResidualBlock(\n",
       "      (conv): Conv2d(8, 16, kernel_size=(3, 3), stride=(1, 1), padding=(1, 1))\n",
       "      (correct_channels): Conv2d(8, 16, kernel_size=(1, 1), stride=(1, 1))\n",
       "      (activation): ReLU()\n",
       "    )\n",
       "    (residual_1_1): ResidualBlock(\n",
       "      (conv): Conv2d(16, 16, kernel_size=(3, 3), stride=(1, 1), padding=(1, 1))\n",
       "      (correct_channels): Identity()\n",
       "      (activation): ReLU()\n",
       "    )\n",
       "    (pooling_1): AvgPool2d(kernel_size=2, stride=2, padding=0)\n",
       "    (residual_2_0): ResidualBlock(\n",
       "      (conv): Conv2d(16, 32, kernel_size=(3, 3), stride=(1, 1), padding=(1, 1))\n",
       "      (correct_channels): Conv2d(16, 32, kernel_size=(1, 1), stride=(1, 1))\n",
       "      (activation): ReLU()\n",
       "    )\n",
       "    (residual_2_1): ResidualBlock(\n",
       "      (conv): Conv2d(32, 32, kernel_size=(3, 3), stride=(1, 1), padding=(1, 1))\n",
       "      (correct_channels): Identity()\n",
       "      (activation): ReLU()\n",
       "    )\n",
       "    (pooling_2): AvgPool2d(kernel_size=2, stride=2, padding=0)\n",
       "    (residual_3_0): ResidualBlock(\n",
       "      (conv): Conv2d(32, 32, kernel_size=(3, 3), stride=(1, 1), padding=(1, 1))\n",
       "      (correct_channels): Identity()\n",
       "      (activation): ReLU()\n",
       "    )\n",
       "    (residual_3_1): ResidualBlock(\n",
       "      (conv): Conv2d(32, 32, kernel_size=(3, 3), stride=(1, 1), padding=(1, 1))\n",
       "      (correct_channels): Identity()\n",
       "      (activation): ReLU()\n",
       "    )\n",
       "  )\n",
       "  (clf_part): Sequential(\n",
       "    (linear_0): Linear(in_features=512, out_features=32, bias=True)\n",
       "    (act_0): ReLU()\n",
       "    (linear_1): Linear(in_features=32, out_features=10, bias=True)\n",
       "    (log_softmax): LogSoftmax(dim=-1)\n",
       "  )\n",
       ")"
      ]
     },
     "metadata": {},
     "output_type": "display_data"
    }
   ],
   "source": [
    "# Повторим похожее, но в более общем виде при помощи обёртки в torch.nn.Module\n",
    "IMG_SIZE = 32\n",
    "\n",
    "class ResidualModel(torch.nn.Module):\n",
    "    def __init__(\n",
    "        self,\n",
    "        out_size,  # Число классов\n",
    "        residual_sizes,  # Задаём список троек: количество Residual блоков, число каналов и размер ядра в каждом таком блоке\n",
    "        linear_sizes,  # Список размеров линейных слоёв в финальном классификаторе\n",
    "        activation = torch.nn.ReLU,  # Какую функцию активации использовать\n",
    "        flatten = True,  # Использовать Flatten или GlobalPooling\n",
    "    ):\n",
    "        super().__init__()\n",
    "        self.flatten = flatten\n",
    "        \n",
    "        # Собираем все свёрточные слои в один блок\n",
    "        conv_layers = []\n",
    "\n",
    "        current_c = 3\n",
    "        for group_index, (num_residual, out_channels, kernel_size) in enumerate(residual_sizes):\n",
    "            for residual_index in range(num_residual):\n",
    "                conv_layers.append((  # Добавляем несколько Residual блоков для каждой группы\n",
    "                    f\"residual_{group_index}_{residual_index}\",\n",
    "                    ResidualBlock(\n",
    "                        input_c = current_c if residual_index == 0 else out_channels,\n",
    "                        output_c = out_channels,\n",
    "                        kernel_size = kernel_size,\n",
    "                        activation = activation,\n",
    "                    ),\n",
    "                ))\n",
    "            current_c = out_channels\n",
    "            if group_index < len(residual_sizes) - 1:\n",
    "                conv_layers.append((  # В конце группы добавляем один Pooling слой, если это не последняя группа\n",
    "                    f\"pooling_{group_index}\",\n",
    "                    torch.nn.AvgPool2d(2),\n",
    "                ))\n",
    "        \n",
    "        self.conv_part = torch.nn.Sequential(OrderedDict(conv_layers))\n",
    "        \n",
    "        # Собираем все линейные слои во второй блок\n",
    "        out_c = residual_sizes[-1][1]\n",
    "        final_size = IMG_SIZE // 2 ** (len(residual_sizes) - 1)\n",
    "        clf_in_size = (out_c * final_size**2) if flatten else out_c\n",
    "        \n",
    "        linear_sizes = [clf_in_size, *linear_sizes, out_size]\n",
    "        \n",
    "        clf_layers = []\n",
    "        \n",
    "        for i, (from_size, to_size) in enumerate(zip(linear_sizes[:-1], linear_sizes[1:])):\n",
    "            clf_layers.append((f\"linear_{i}\", torch.nn.Linear(from_size, to_size)))\n",
    "            if i < len(linear_sizes) - 2:\n",
    "                clf_layers.append((f\"act_{i}\", activation()))\n",
    "            else:\n",
    "                clf_layers.append((\"log_softmax\", torch.nn.LogSoftmax(-1)))\n",
    "                \n",
    "        self.clf_part = torch.nn.Sequential(OrderedDict(clf_layers))\n",
    "    \n",
    "    def forward(self, x):  # input (bs x h x w x c_in)\n",
    "        x = x.permute((0, 3, 1, 2))  # (bs x c_in x h x w)\n",
    "        \n",
    "        x = self.conv_part(x)  # bs x c_out x h' x w'\n",
    "        \n",
    "        if self.flatten:\n",
    "            # Операция Flatten\n",
    "            x = x.reshape(x.shape[0], -1)  # bs x (c_out * h' * w')\n",
    "        else:\n",
    "            # Операция GlobalMaxPooling\n",
    "            x = x.max(-1).values.max(-1).values  # bs x c_out\n",
    "\n",
    "        \n",
    "        x = self.clf_part(x)  # bs x 10\n",
    "        \n",
    "        return x\n",
    "\n",
    "\n",
    "def print_num_params(model):\n",
    "    # Считаем общее количество обучаемых весов в модели\n",
    "    sum_params_size = 0\n",
    "    for name, param in model.named_parameters():\n",
    "        param_size = param.numel()\n",
    "        print(\"{:<46} ~ {:<14} ~ {}\".format(name, str(list(param.shape)), param_size))\n",
    "        sum_params_size += param_size\n",
    "    print(f\"Общее число параметров ~ {sum_params_size}\")\n",
    "\n",
    "\n",
    "model = ResidualModel(\n",
    "    out_size=10,\n",
    "    residual_sizes=[(2, 8, 3), (2, 16, 3), (2, 32, 3), (2, 32, 3)],\n",
    "    linear_sizes=[32],\n",
    "    activation=torch.nn.ReLU,\n",
    "    flatten=True,\n",
    ")\n",
    "\n",
    "model"
   ]
  },
  {
   "cell_type": "code",
   "execution_count": 109,
   "id": "e95e56c9",
   "metadata": {
    "cellId": "zk3yop1mdfoowoe63fbhgf"
   },
   "outputs": [
    {
     "data": {
      "text/plain": [
       "torch.Size([12, 10])"
      ]
     },
     "metadata": {},
     "output_type": "display_data"
    }
   ],
   "source": [
    "x = torch.rand(12, 32, 32, 3)\n",
    "\n",
    "model(x).shape"
   ]
  },
  {
   "cell_type": "code",
   "execution_count": 110,
   "id": "98cef4ce",
   "metadata": {
    "cellId": "t7qvab8io2h4hgkyeab0d"
   },
   "outputs": [
    {
     "name": "stdout",
     "output_type": "stream",
     "text": [
      "conv_part.residual_0_0.conv.weight             ~ [8, 3, 3, 3]   ~ 216\n",
      "conv_part.residual_0_0.conv.bias               ~ [8]            ~ 8\n",
      "conv_part.residual_0_0.correct_channels.weight ~ [8, 3, 1, 1]   ~ 24\n",
      "conv_part.residual_0_0.correct_channels.bias   ~ [8]            ~ 8\n",
      "conv_part.residual_0_1.conv.weight             ~ [8, 8, 3, 3]   ~ 576\n",
      "conv_part.residual_0_1.conv.bias               ~ [8]            ~ 8\n",
      "conv_part.residual_1_0.conv.weight             ~ [16, 8, 3, 3]  ~ 1152\n",
      "conv_part.residual_1_0.conv.bias               ~ [16]           ~ 16\n",
      "conv_part.residual_1_0.correct_channels.weight ~ [16, 8, 1, 1]  ~ 128\n",
      "conv_part.residual_1_0.correct_channels.bias   ~ [16]           ~ 16\n",
      "conv_part.residual_1_1.conv.weight             ~ [16, 16, 3, 3] ~ 2304\n",
      "conv_part.residual_1_1.conv.bias               ~ [16]           ~ 16\n",
      "conv_part.residual_2_0.conv.weight             ~ [32, 16, 3, 3] ~ 4608\n",
      "conv_part.residual_2_0.conv.bias               ~ [32]           ~ 32\n",
      "conv_part.residual_2_0.correct_channels.weight ~ [32, 16, 1, 1] ~ 512\n",
      "conv_part.residual_2_0.correct_channels.bias   ~ [32]           ~ 32\n",
      "conv_part.residual_2_1.conv.weight             ~ [32, 32, 3, 3] ~ 9216\n",
      "conv_part.residual_2_1.conv.bias               ~ [32]           ~ 32\n",
      "conv_part.residual_3_0.conv.weight             ~ [32, 32, 3, 3] ~ 9216\n",
      "conv_part.residual_3_0.conv.bias               ~ [32]           ~ 32\n",
      "conv_part.residual_3_1.conv.weight             ~ [32, 32, 3, 3] ~ 9216\n",
      "conv_part.residual_3_1.conv.bias               ~ [32]           ~ 32\n",
      "clf_part.linear_0.weight                       ~ [32, 512]      ~ 16384\n",
      "clf_part.linear_0.bias                         ~ [32]           ~ 32\n",
      "clf_part.linear_1.weight                       ~ [10, 32]       ~ 320\n",
      "clf_part.linear_1.bias                         ~ [10]           ~ 10\n",
      "Общее число параметров ~ 54146\n"
     ]
    }
   ],
   "source": [
    "print_num_params(model)"
   ]
  },
  {
   "cell_type": "code",
   "execution_count": 114,
   "id": "127cd774",
   "metadata": {
    "cellId": "n2s751zz2govz7bgl5v"
   },
   "outputs": [
    {
     "data": {
      "text/plain": [
       "ResidualModel(\n",
       "  (conv_part): Sequential(\n",
       "    (residual_0_0): ResidualBlock(\n",
       "      (conv): Conv2d(3, 8, kernel_size=(3, 3), stride=(1, 1), padding=(1, 1))\n",
       "      (correct_channels): Conv2d(3, 8, kernel_size=(1, 1), stride=(1, 1))\n",
       "      (activation): ReLU()\n",
       "    )\n",
       "    (residual_0_1): ResidualBlock(\n",
       "      (conv): Conv2d(8, 8, kernel_size=(3, 3), stride=(1, 1), padding=(1, 1))\n",
       "      (correct_channels): Identity()\n",
       "      (activation): ReLU()\n",
       "    )\n",
       "    (pooling_0): AvgPool2d(kernel_size=2, stride=2, padding=0)\n",
       "    (residual_1_0): ResidualBlock(\n",
       "      (conv): Conv2d(8, 16, kernel_size=(3, 3), stride=(1, 1), padding=(1, 1))\n",
       "      (correct_channels): Conv2d(8, 16, kernel_size=(1, 1), stride=(1, 1))\n",
       "      (activation): ReLU()\n",
       "    )\n",
       "    (residual_1_1): ResidualBlock(\n",
       "      (conv): Conv2d(16, 16, kernel_size=(3, 3), stride=(1, 1), padding=(1, 1))\n",
       "      (correct_channels): Identity()\n",
       "      (activation): ReLU()\n",
       "    )\n",
       "    (pooling_1): AvgPool2d(kernel_size=2, stride=2, padding=0)\n",
       "    (residual_2_0): ResidualBlock(\n",
       "      (conv): Conv2d(16, 32, kernel_size=(3, 3), stride=(1, 1), padding=(1, 1))\n",
       "      (correct_channels): Conv2d(16, 32, kernel_size=(1, 1), stride=(1, 1))\n",
       "      (activation): ReLU()\n",
       "    )\n",
       "    (residual_2_1): ResidualBlock(\n",
       "      (conv): Conv2d(32, 32, kernel_size=(3, 3), stride=(1, 1), padding=(1, 1))\n",
       "      (correct_channels): Identity()\n",
       "      (activation): ReLU()\n",
       "    )\n",
       "    (pooling_2): AvgPool2d(kernel_size=2, stride=2, padding=0)\n",
       "    (residual_3_0): ResidualBlock(\n",
       "      (conv): Conv2d(32, 32, kernel_size=(3, 3), stride=(1, 1), padding=(1, 1))\n",
       "      (correct_channels): Identity()\n",
       "      (activation): ReLU()\n",
       "    )\n",
       "    (residual_3_1): ResidualBlock(\n",
       "      (conv): Conv2d(32, 32, kernel_size=(3, 3), stride=(1, 1), padding=(1, 1))\n",
       "      (correct_channels): Identity()\n",
       "      (activation): ReLU()\n",
       "    )\n",
       "  )\n",
       "  (clf_part): Sequential(\n",
       "    (linear_0): Linear(in_features=32, out_features=32, bias=True)\n",
       "    (act_0): ReLU()\n",
       "    (linear_1): Linear(in_features=32, out_features=10, bias=True)\n",
       "    (log_softmax): LogSoftmax(dim=-1)\n",
       "  )\n",
       ")"
      ]
     },
     "metadata": {},
     "output_type": "display_data"
    }
   ],
   "source": [
    "model = ResidualModel(\n",
    "    out_size=10,\n",
    "    residual_sizes=[(2, 8, 3), (2, 16, 3), (2, 32, 3), (2, 32, 3)],\n",
    "    linear_sizes=[32],\n",
    "    activation=torch.nn.ReLU,\n",
    "    flatten=False,\n",
    ")\n",
    "\n",
    "model"
   ]
  },
  {
   "cell_type": "code",
   "execution_count": 119,
   "id": "620cde19",
   "metadata": {
    "cellId": "vepn1n6c9ameieslnp7we"
   },
   "outputs": [
    {
     "data": {
      "text/plain": [
       "torch.Size([12, 10])"
      ]
     },
     "metadata": {},
     "output_type": "display_data"
    }
   ],
   "source": [
    "x = torch.rand(12, 32, 32, 3)\n",
    "\n",
    "model(x).shape"
   ]
  },
  {
   "cell_type": "code",
   "execution_count": 116,
   "id": "f7a5fb7e",
   "metadata": {
    "cellId": "290rb4tnlqfz36dv6yga9g"
   },
   "outputs": [
    {
     "name": "stdout",
     "output_type": "stream",
     "text": [
      "conv_part.residual_0_0.conv.weight             ~ [8, 3, 3, 3]   ~ 216\n",
      "conv_part.residual_0_0.conv.bias               ~ [8]            ~ 8\n",
      "conv_part.residual_0_0.correct_channels.weight ~ [8, 3, 1, 1]   ~ 24\n",
      "conv_part.residual_0_0.correct_channels.bias   ~ [8]            ~ 8\n",
      "conv_part.residual_0_1.conv.weight             ~ [8, 8, 3, 3]   ~ 576\n",
      "conv_part.residual_0_1.conv.bias               ~ [8]            ~ 8\n",
      "conv_part.residual_1_0.conv.weight             ~ [16, 8, 3, 3]  ~ 1152\n",
      "conv_part.residual_1_0.conv.bias               ~ [16]           ~ 16\n",
      "conv_part.residual_1_0.correct_channels.weight ~ [16, 8, 1, 1]  ~ 128\n",
      "conv_part.residual_1_0.correct_channels.bias   ~ [16]           ~ 16\n",
      "conv_part.residual_1_1.conv.weight             ~ [16, 16, 3, 3] ~ 2304\n",
      "conv_part.residual_1_1.conv.bias               ~ [16]           ~ 16\n",
      "conv_part.residual_2_0.conv.weight             ~ [32, 16, 3, 3] ~ 4608\n",
      "conv_part.residual_2_0.conv.bias               ~ [32]           ~ 32\n",
      "conv_part.residual_2_0.correct_channels.weight ~ [32, 16, 1, 1] ~ 512\n",
      "conv_part.residual_2_0.correct_channels.bias   ~ [32]           ~ 32\n",
      "conv_part.residual_2_1.conv.weight             ~ [32, 32, 3, 3] ~ 9216\n",
      "conv_part.residual_2_1.conv.bias               ~ [32]           ~ 32\n",
      "conv_part.residual_3_0.conv.weight             ~ [32, 32, 3, 3] ~ 9216\n",
      "conv_part.residual_3_0.conv.bias               ~ [32]           ~ 32\n",
      "conv_part.residual_3_1.conv.weight             ~ [32, 32, 3, 3] ~ 9216\n",
      "conv_part.residual_3_1.conv.bias               ~ [32]           ~ 32\n",
      "clf_part.linear_0.weight                       ~ [32, 32]       ~ 1024\n",
      "clf_part.linear_0.bias                         ~ [32]           ~ 32\n",
      "clf_part.linear_1.weight                       ~ [10, 32]       ~ 320\n",
      "clf_part.linear_1.bias                         ~ [10]           ~ 10\n",
      "Общее число параметров ~ 38786\n"
     ]
    }
   ],
   "source": [
    "print_num_params(model)"
   ]
  }
 ],
 "metadata": {
  "kernelspec": {
   "display_name": "Python 3 (ipykernel)",
   "language": "python",
   "name": "python3"
  },
  "language_info": {
   "codemirror_mode": {
    "name": "ipython",
    "version": 3
   },
   "file_extension": ".py",
   "mimetype": "text/x-python",
   "name": "python",
   "nbconvert_exporter": "python",
   "pygments_lexer": "ipython3",
   "version": "3.11.5"
  },
  "notebookId": "1a5fe0c2-24e4-41a0-8e6e-9e09dd1f8099",
  "notebookPath": "Sirius/Операция_свёртки_и_свёрточные_нейронные_сети.ipynb"
 },
 "nbformat": 4,
 "nbformat_minor": 5
}
